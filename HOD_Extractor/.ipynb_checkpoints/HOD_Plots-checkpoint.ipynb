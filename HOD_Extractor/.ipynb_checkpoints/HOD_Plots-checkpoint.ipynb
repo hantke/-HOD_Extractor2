{
 "cells": [
  {
   "cell_type": "code",
   "execution_count": 7,
   "metadata": {},
   "outputs": [],
   "source": [
    "##### External Packages\n",
    "import numpy as np\n",
    "import deepdish as dd\n",
    "import sys\n",
    "\n",
    "%matplotlib inline \n",
    "import matplotlib.pyplot as plt\n",
    "import matplotlib.gridspec as gridspec"
   ]
  },
  {
   "cell_type": "code",
   "execution_count": 8,
   "metadata": {},
   "outputs": [],
   "source": [
    "##### Load Main\n",
    "\n",
    "Index_Name= ['10% of the haloes with the lowest ','10-20% of the haloes with the lowest ','20-30% of the haloes with the lowest ','30-40% of the haloes with the lowest ','40-50% of the haloes with the lowest ', '40-50% of the haloes with the highest ','30-40% of the haloes with the highest ','20-30% of the haloes with the highest ','10-20% of the haloes with the highest ','% of the haloes with the highest ']"
   ]
  },
  {
   "cell_type": "code",
   "execution_count": 23,
   "metadata": {},
   "outputs": [
    {
     "name": "stdout",
     "output_type": "stream",
     "text": [
      "['Ncen', 'Log_Mhalo', 'Ngal', 'Nsat', 'Nhalo']\n"
     ]
    }
   ],
   "source": [
    "HOD = dd.io.load('HOD.hdf5')\n",
    "Range = ['0-10','10-20','20-30','30-40','40-50','50-60','60-70','70-80','80-90','90-100']  \n",
    "print HOD['full_HOD']['Stell']['0.01']['z0'].keys()"
   ]
  },
  {
   "cell_type": "code",
   "execution_count": null,
   "metadata": {},
   "outputs": [],
   "source": []
  },
  {
   "cell_type": "code",
   "execution_count": 26,
   "metadata": {},
   "outputs": [
    {
     "name": "stderr",
     "output_type": "stream",
     "text": [
      "/home/sergio/.local/lib/python2.7/site-packages/ipykernel_launcher.py:13: RuntimeWarning: divide by zero encountered in log10\n",
      "  del sys.path[0]\n"
     ]
    },
    {
     "data": {
      "image/png": "[encoded data removed]",
      "text/plain": [
       "<Figure size 504x504 with 1 Axes>"
      ]
     },
     "metadata": {},
     "output_type": "display_data"
    }
   ],
   "source": [
    "def plot():    \n",
    "    fig,ax0 = plt.subplots(nrows=1, ncols=1, figsize=(7, 7))\n",
    "    gs = gridspec.GridSpec(1, 1)\n",
    "    gs.update(hspace=0.0)\n",
    "    ax = plt.subplot(gs[0,0])\n",
    "\n",
    "        \n",
    "    ax.plot([10,16],[0,0], color='#D3D3D3', linewidth=1, linestyle = '--')\n",
    "    selHOD = HOD['full_HOD']['Stell']['0.01']['z0']\n",
    "    Mh, Ngal, Ncen, Nsat = selHOD['Log_Mhalo'], selHOD['Ngal'], selHOD['Ncen'], selHOD['Nsat']\n",
    "    ####################################################################################################\n",
    "    ax.plot(Mh,np.log10(Ngal), 'k-', label=r'$\\rm all$')\n",
    "    ax.plot(Mh,np.log10(Ncen), 'r:', label=r'$\\rm centrals$')\n",
    "    ax.plot(Mh,np.log10(Nsat), 'b--', label=r'$\\rm satellites$')\n",
    "    ####################################################################################################\n",
    "    ax.set_xlim([10.5,15])\n",
    "    ax.set_ylim([-1.5, 3])\n",
    "    ####################################################################################################\n",
    "    ax.set_ylabel(r'$\\rm \\langle N_{gal} \\rangle$', fontsize=20)\n",
    "    ax.set_xlabel(r'$\\rm log(M_{h}/h^{-1}M_{\\odot})$', fontsize=20)\n",
    "    plt.savefig('HOD_example.pdf',rasterized=True,papertype = 'b10', bbox_inches='tight')\n",
    "plot()\n"
   ]
  },
  {
   "cell_type": "code",
   "execution_count": 31,
   "metadata": {},
   "outputs": [],
   "source": []
  },
  {
   "cell_type": "code",
   "execution_count": null,
   "metadata": {},
   "outputs": [],
   "source": []
  },
  {
   "cell_type": "code",
   "execution_count": 12,
   "metadata": {},
   "outputs": [
    {
     "data": {
      "text/plain": [
       "(11, 4, 60)"
      ]
     },
     "execution_count": 12,
     "metadata": {},
     "output_type": "execute_result"
    }
   ],
   "source": []
  },
  {
   "cell_type": "code",
   "execution_count": 16,
   "metadata": {},
   "outputs": [
    {
     "data": {
      "text/plain": [
       "array([0.000000e+00, 2.810400e+04, 4.205000e+04, 1.404720e+05,\n",
       "       2.374190e+05, 5.788570e+05, 9.925140e+05, 2.361367e+06,\n",
       "       1.951689e+06, 1.868943e+06, 1.574449e+06, 1.259951e+06,\n",
       "       1.051592e+06, 8.741590e+05, 6.394760e+05, 5.904510e+05,\n",
       "       4.745680e+05, 3.913240e+05, 3.126620e+05, 2.363930e+05,\n",
       "       2.093540e+05, 1.703950e+05, 1.368970e+05, 1.101380e+05,\n",
       "       8.297700e+04, 7.243800e+04, 5.814900e+04, 4.661900e+04,\n",
       "       3.764600e+04, 2.754700e+04, 2.405500e+04, 1.952500e+04,\n",
       "       1.501700e+04, 1.204500e+04, 8.708000e+03, 7.344000e+03,\n",
       "       5.798000e+03, 4.395000e+03, 3.283000e+03, 2.370000e+03,\n",
       "       1.831000e+03, 1.338000e+03, 9.260000e+02, 7.050000e+02,\n",
       "       4.510000e+02, 3.380000e+02, 2.240000e+02, 1.460000e+02,\n",
       "       8.300000e+01, 3.900000e+01, 2.200000e+01, 1.800000e+01,\n",
       "       6.000000e+00, 3.000000e+00, 0.000000e+00, 0.000000e+00,\n",
       "       0.000000e+00, 0.000000e+00, 0.000000e+00, 0.000000e+00])"
      ]
     },
     "execution_count": 16,
     "metadata": {},
     "output_type": "execute_result"
    }
   ],
   "source": []
  },
  {
   "cell_type": "code",
   "execution_count": null,
   "metadata": {},
   "outputs": [],
   "source": []
  }
 ],
 "metadata": {
  "kernelspec": {
   "display_name": "Python 2",
   "language": "python",
   "name": "python2"
  },
  "language_info": {
   "codemirror_mode": {
    "name": "ipython",
    "version": 2
   },
   "file_extension": ".py",
   "mimetype": "text/x-python",
   "name": "python",
   "nbconvert_exporter": "python",
   "pygments_lexer": "ipython2",
   "version": "2.7.12"
  }
 },
 "nbformat": 4,
 "nbformat_minor": 2
}
